{
 "cells": [
  {
   "cell_type": "markdown",
   "id": "5d820bfe",
   "metadata": {},
   "source": [
    "# **Importamos librerias**"
   ]
  },
  {
   "cell_type": "code",
   "execution_count": 1,
   "id": "bf074c28",
   "metadata": {},
   "outputs": [
    {
     "name": "stderr",
     "output_type": "stream",
     "text": [
      "/Users/jonatanlondonotaborda/Documents/Repositorios/MLOps_CML/.venv/lib/python3.12/site-packages/tqdm/auto.py:21: TqdmWarning: IProgress not found. Please update jupyter and ipywidgets. See https://ipywidgets.readthedocs.io/en/stable/user_install.html\n",
      "  from .autonotebook import tqdm as notebook_tqdm\n"
     ]
    }
   ],
   "source": [
    "from etl import GetData\n",
    "from feature_engineer import FeatureEngineer"
   ]
  },
  {
   "cell_type": "markdown",
   "id": "c717333d",
   "metadata": {},
   "source": [
    "# **ETL**"
   ]
  },
  {
   "cell_type": "code",
   "execution_count": 2,
   "id": "20d7f18a",
   "metadata": {},
   "outputs": [],
   "source": [
    "get_data = GetData()"
   ]
  },
  {
   "cell_type": "code",
   "execution_count": 5,
   "id": "8cb7892b",
   "metadata": {},
   "outputs": [],
   "source": [
    "get_data.download_data()"
   ]
  },
  {
   "cell_type": "code",
   "execution_count": 3,
   "id": "147711b6",
   "metadata": {},
   "outputs": [],
   "source": [
    "df = get_data.create_dataset()"
   ]
  },
  {
   "cell_type": "code",
   "execution_count": 4,
   "id": "48d39cbc",
   "metadata": {},
   "outputs": [
    {
     "data": {
      "text/html": [
       "<div>\n",
       "<style scoped>\n",
       "    .dataframe tbody tr th:only-of-type {\n",
       "        vertical-align: middle;\n",
       "    }\n",
       "\n",
       "    .dataframe tbody tr th {\n",
       "        vertical-align: top;\n",
       "    }\n",
       "\n",
       "    .dataframe thead th {\n",
       "        text-align: right;\n",
       "    }\n",
       "</style>\n",
       "<table border=\"1\" class=\"dataframe\">\n",
       "  <thead>\n",
       "    <tr style=\"text-align: right;\">\n",
       "      <th></th>\n",
       "      <th>type</th>\n",
       "      <th>fixed_acidity</th>\n",
       "      <th>volatile_acidity</th>\n",
       "      <th>citric_acid</th>\n",
       "      <th>residual_sugar</th>\n",
       "      <th>chlorides</th>\n",
       "      <th>free_sulfur_dioxide</th>\n",
       "      <th>total_sulfur_dioxide</th>\n",
       "      <th>density</th>\n",
       "      <th>pH</th>\n",
       "      <th>sulphates</th>\n",
       "      <th>alcohol</th>\n",
       "      <th>quality</th>\n",
       "    </tr>\n",
       "  </thead>\n",
       "  <tbody>\n",
       "    <tr>\n",
       "      <th>0</th>\n",
       "      <td>white</td>\n",
       "      <td>7.0</td>\n",
       "      <td>0.27</td>\n",
       "      <td>0.36</td>\n",
       "      <td>20.7</td>\n",
       "      <td>0.045</td>\n",
       "      <td>45.0</td>\n",
       "      <td>170.0</td>\n",
       "      <td>1.0010</td>\n",
       "      <td>3.00</td>\n",
       "      <td>0.45</td>\n",
       "      <td>8.8</td>\n",
       "      <td>6</td>\n",
       "    </tr>\n",
       "    <tr>\n",
       "      <th>1</th>\n",
       "      <td>white</td>\n",
       "      <td>6.3</td>\n",
       "      <td>0.30</td>\n",
       "      <td>0.34</td>\n",
       "      <td>1.6</td>\n",
       "      <td>0.049</td>\n",
       "      <td>14.0</td>\n",
       "      <td>132.0</td>\n",
       "      <td>0.9940</td>\n",
       "      <td>3.30</td>\n",
       "      <td>0.49</td>\n",
       "      <td>9.5</td>\n",
       "      <td>6</td>\n",
       "    </tr>\n",
       "    <tr>\n",
       "      <th>2</th>\n",
       "      <td>white</td>\n",
       "      <td>8.1</td>\n",
       "      <td>0.28</td>\n",
       "      <td>0.40</td>\n",
       "      <td>6.9</td>\n",
       "      <td>0.050</td>\n",
       "      <td>30.0</td>\n",
       "      <td>97.0</td>\n",
       "      <td>0.9951</td>\n",
       "      <td>3.26</td>\n",
       "      <td>0.44</td>\n",
       "      <td>10.1</td>\n",
       "      <td>6</td>\n",
       "    </tr>\n",
       "    <tr>\n",
       "      <th>3</th>\n",
       "      <td>white</td>\n",
       "      <td>7.2</td>\n",
       "      <td>0.23</td>\n",
       "      <td>0.32</td>\n",
       "      <td>8.5</td>\n",
       "      <td>0.058</td>\n",
       "      <td>47.0</td>\n",
       "      <td>186.0</td>\n",
       "      <td>0.9956</td>\n",
       "      <td>3.19</td>\n",
       "      <td>0.40</td>\n",
       "      <td>9.9</td>\n",
       "      <td>6</td>\n",
       "    </tr>\n",
       "    <tr>\n",
       "      <th>4</th>\n",
       "      <td>white</td>\n",
       "      <td>7.2</td>\n",
       "      <td>0.23</td>\n",
       "      <td>0.32</td>\n",
       "      <td>8.5</td>\n",
       "      <td>0.058</td>\n",
       "      <td>47.0</td>\n",
       "      <td>186.0</td>\n",
       "      <td>0.9956</td>\n",
       "      <td>3.19</td>\n",
       "      <td>0.40</td>\n",
       "      <td>9.9</td>\n",
       "      <td>6</td>\n",
       "    </tr>\n",
       "  </tbody>\n",
       "</table>\n",
       "</div>"
      ],
      "text/plain": [
       "    type  fixed_acidity  volatile_acidity  citric_acid  residual_sugar  \\\n",
       "0  white            7.0              0.27         0.36            20.7   \n",
       "1  white            6.3              0.30         0.34             1.6   \n",
       "2  white            8.1              0.28         0.40             6.9   \n",
       "3  white            7.2              0.23         0.32             8.5   \n",
       "4  white            7.2              0.23         0.32             8.5   \n",
       "\n",
       "   chlorides  free_sulfur_dioxide  total_sulfur_dioxide  density    pH  \\\n",
       "0      0.045                 45.0                 170.0   1.0010  3.00   \n",
       "1      0.049                 14.0                 132.0   0.9940  3.30   \n",
       "2      0.050                 30.0                  97.0   0.9951  3.26   \n",
       "3      0.058                 47.0                 186.0   0.9956  3.19   \n",
       "4      0.058                 47.0                 186.0   0.9956  3.19   \n",
       "\n",
       "   sulphates  alcohol  quality  \n",
       "0       0.45      8.8        6  \n",
       "1       0.49      9.5        6  \n",
       "2       0.44     10.1        6  \n",
       "3       0.40      9.9        6  \n",
       "4       0.40      9.9        6  "
      ]
     },
     "execution_count": 4,
     "metadata": {},
     "output_type": "execute_result"
    }
   ],
   "source": [
    "df.head()"
   ]
  },
  {
   "cell_type": "markdown",
   "id": "4ce94fb9",
   "metadata": {},
   "source": [
    "# **Feature Engineering**"
   ]
  },
  {
   "cell_type": "code",
   "execution_count": 5,
   "id": "40325720",
   "metadata": {},
   "outputs": [],
   "source": [
    "feature_engineer = FeatureEngineer(df)"
   ]
  },
  {
   "cell_type": "code",
   "execution_count": 6,
   "id": "46054102",
   "metadata": {},
   "outputs": [],
   "source": [
    "df_engineered = feature_engineer.create_features()"
   ]
  },
  {
   "cell_type": "code",
   "execution_count": 7,
   "id": "68208679",
   "metadata": {},
   "outputs": [
    {
     "data": {
      "text/html": [
       "<div>\n",
       "<style scoped>\n",
       "    .dataframe tbody tr th:only-of-type {\n",
       "        vertical-align: middle;\n",
       "    }\n",
       "\n",
       "    .dataframe tbody tr th {\n",
       "        vertical-align: top;\n",
       "    }\n",
       "\n",
       "    .dataframe thead th {\n",
       "        text-align: right;\n",
       "    }\n",
       "</style>\n",
       "<table border=\"1\" class=\"dataframe\">\n",
       "  <thead>\n",
       "    <tr style=\"text-align: right;\">\n",
       "      <th></th>\n",
       "      <th>fixed_acidity</th>\n",
       "      <th>volatile_acidity</th>\n",
       "      <th>citric_acid</th>\n",
       "      <th>residual_sugar</th>\n",
       "      <th>chlorides</th>\n",
       "      <th>free_sulfur_dioxide</th>\n",
       "      <th>total_sulfur_dioxide</th>\n",
       "      <th>density</th>\n",
       "      <th>pH</th>\n",
       "      <th>sulphates</th>\n",
       "      <th>alcohol</th>\n",
       "      <th>quality</th>\n",
       "    </tr>\n",
       "  </thead>\n",
       "  <tbody>\n",
       "    <tr>\n",
       "      <th>0</th>\n",
       "      <td>7.0</td>\n",
       "      <td>0.27</td>\n",
       "      <td>0.36</td>\n",
       "      <td>20.7</td>\n",
       "      <td>0.045</td>\n",
       "      <td>45.0</td>\n",
       "      <td>170.0</td>\n",
       "      <td>1.00100</td>\n",
       "      <td>3.00</td>\n",
       "      <td>0.45</td>\n",
       "      <td>8.8</td>\n",
       "      <td>6</td>\n",
       "    </tr>\n",
       "    <tr>\n",
       "      <th>1</th>\n",
       "      <td>6.3</td>\n",
       "      <td>0.30</td>\n",
       "      <td>0.34</td>\n",
       "      <td>1.6</td>\n",
       "      <td>0.049</td>\n",
       "      <td>14.0</td>\n",
       "      <td>132.0</td>\n",
       "      <td>0.99400</td>\n",
       "      <td>3.30</td>\n",
       "      <td>0.49</td>\n",
       "      <td>9.5</td>\n",
       "      <td>6</td>\n",
       "    </tr>\n",
       "    <tr>\n",
       "      <th>2</th>\n",
       "      <td>8.1</td>\n",
       "      <td>0.28</td>\n",
       "      <td>0.40</td>\n",
       "      <td>6.9</td>\n",
       "      <td>0.050</td>\n",
       "      <td>30.0</td>\n",
       "      <td>97.0</td>\n",
       "      <td>0.99510</td>\n",
       "      <td>3.26</td>\n",
       "      <td>0.44</td>\n",
       "      <td>10.1</td>\n",
       "      <td>6</td>\n",
       "    </tr>\n",
       "    <tr>\n",
       "      <th>3</th>\n",
       "      <td>7.2</td>\n",
       "      <td>0.23</td>\n",
       "      <td>0.32</td>\n",
       "      <td>8.5</td>\n",
       "      <td>0.058</td>\n",
       "      <td>47.0</td>\n",
       "      <td>186.0</td>\n",
       "      <td>0.99560</td>\n",
       "      <td>3.19</td>\n",
       "      <td>0.40</td>\n",
       "      <td>9.9</td>\n",
       "      <td>6</td>\n",
       "    </tr>\n",
       "    <tr>\n",
       "      <th>4</th>\n",
       "      <td>7.2</td>\n",
       "      <td>0.23</td>\n",
       "      <td>0.32</td>\n",
       "      <td>8.5</td>\n",
       "      <td>0.058</td>\n",
       "      <td>47.0</td>\n",
       "      <td>186.0</td>\n",
       "      <td>0.99560</td>\n",
       "      <td>3.19</td>\n",
       "      <td>0.40</td>\n",
       "      <td>9.9</td>\n",
       "      <td>6</td>\n",
       "    </tr>\n",
       "    <tr>\n",
       "      <th>...</th>\n",
       "      <td>...</td>\n",
       "      <td>...</td>\n",
       "      <td>...</td>\n",
       "      <td>...</td>\n",
       "      <td>...</td>\n",
       "      <td>...</td>\n",
       "      <td>...</td>\n",
       "      <td>...</td>\n",
       "      <td>...</td>\n",
       "      <td>...</td>\n",
       "      <td>...</td>\n",
       "      <td>...</td>\n",
       "    </tr>\n",
       "    <tr>\n",
       "      <th>4893</th>\n",
       "      <td>6.2</td>\n",
       "      <td>0.21</td>\n",
       "      <td>0.29</td>\n",
       "      <td>1.6</td>\n",
       "      <td>0.039</td>\n",
       "      <td>24.0</td>\n",
       "      <td>92.0</td>\n",
       "      <td>0.99114</td>\n",
       "      <td>3.27</td>\n",
       "      <td>0.50</td>\n",
       "      <td>11.2</td>\n",
       "      <td>6</td>\n",
       "    </tr>\n",
       "    <tr>\n",
       "      <th>4894</th>\n",
       "      <td>6.6</td>\n",
       "      <td>0.32</td>\n",
       "      <td>0.36</td>\n",
       "      <td>8.0</td>\n",
       "      <td>0.047</td>\n",
       "      <td>57.0</td>\n",
       "      <td>168.0</td>\n",
       "      <td>0.99490</td>\n",
       "      <td>3.15</td>\n",
       "      <td>0.46</td>\n",
       "      <td>9.6</td>\n",
       "      <td>5</td>\n",
       "    </tr>\n",
       "    <tr>\n",
       "      <th>4895</th>\n",
       "      <td>6.5</td>\n",
       "      <td>NaN</td>\n",
       "      <td>0.19</td>\n",
       "      <td>1.2</td>\n",
       "      <td>0.041</td>\n",
       "      <td>30.0</td>\n",
       "      <td>111.0</td>\n",
       "      <td>0.99254</td>\n",
       "      <td>2.99</td>\n",
       "      <td>0.46</td>\n",
       "      <td>9.4</td>\n",
       "      <td>6</td>\n",
       "    </tr>\n",
       "    <tr>\n",
       "      <th>4896</th>\n",
       "      <td>5.5</td>\n",
       "      <td>0.29</td>\n",
       "      <td>0.30</td>\n",
       "      <td>1.1</td>\n",
       "      <td>0.022</td>\n",
       "      <td>20.0</td>\n",
       "      <td>110.0</td>\n",
       "      <td>0.98869</td>\n",
       "      <td>3.34</td>\n",
       "      <td>0.38</td>\n",
       "      <td>12.8</td>\n",
       "      <td>7</td>\n",
       "    </tr>\n",
       "    <tr>\n",
       "      <th>4897</th>\n",
       "      <td>6.0</td>\n",
       "      <td>0.21</td>\n",
       "      <td>0.38</td>\n",
       "      <td>0.8</td>\n",
       "      <td>0.020</td>\n",
       "      <td>22.0</td>\n",
       "      <td>98.0</td>\n",
       "      <td>0.98941</td>\n",
       "      <td>3.26</td>\n",
       "      <td>0.32</td>\n",
       "      <td>11.8</td>\n",
       "      <td>6</td>\n",
       "    </tr>\n",
       "  </tbody>\n",
       "</table>\n",
       "<p>4898 rows × 12 columns</p>\n",
       "</div>"
      ],
      "text/plain": [
       "      fixed_acidity  volatile_acidity  citric_acid  residual_sugar  chlorides  \\\n",
       "0               7.0              0.27         0.36            20.7      0.045   \n",
       "1               6.3              0.30         0.34             1.6      0.049   \n",
       "2               8.1              0.28         0.40             6.9      0.050   \n",
       "3               7.2              0.23         0.32             8.5      0.058   \n",
       "4               7.2              0.23         0.32             8.5      0.058   \n",
       "...             ...               ...          ...             ...        ...   \n",
       "4893            6.2              0.21         0.29             1.6      0.039   \n",
       "4894            6.6              0.32         0.36             8.0      0.047   \n",
       "4895            6.5               NaN         0.19             1.2      0.041   \n",
       "4896            5.5              0.29         0.30             1.1      0.022   \n",
       "4897            6.0              0.21         0.38             0.8      0.020   \n",
       "\n",
       "      free_sulfur_dioxide  total_sulfur_dioxide  density    pH  sulphates  \\\n",
       "0                    45.0                 170.0  1.00100  3.00       0.45   \n",
       "1                    14.0                 132.0  0.99400  3.30       0.49   \n",
       "2                    30.0                  97.0  0.99510  3.26       0.44   \n",
       "3                    47.0                 186.0  0.99560  3.19       0.40   \n",
       "4                    47.0                 186.0  0.99560  3.19       0.40   \n",
       "...                   ...                   ...      ...   ...        ...   \n",
       "4893                 24.0                  92.0  0.99114  3.27       0.50   \n",
       "4894                 57.0                 168.0  0.99490  3.15       0.46   \n",
       "4895                 30.0                 111.0  0.99254  2.99       0.46   \n",
       "4896                 20.0                 110.0  0.98869  3.34       0.38   \n",
       "4897                 22.0                  98.0  0.98941  3.26       0.32   \n",
       "\n",
       "      alcohol  quality  \n",
       "0         8.8        6  \n",
       "1         9.5        6  \n",
       "2        10.1        6  \n",
       "3         9.9        6  \n",
       "4         9.9        6  \n",
       "...       ...      ...  \n",
       "4893     11.2        6  \n",
       "4894      9.6        5  \n",
       "4895      9.4        6  \n",
       "4896     12.8        7  \n",
       "4897     11.8        6  \n",
       "\n",
       "[4898 rows x 12 columns]"
      ]
     },
     "execution_count": 7,
     "metadata": {},
     "output_type": "execute_result"
    }
   ],
   "source": [
    "df_engineered"
   ]
  },
  {
   "cell_type": "code",
   "execution_count": 8,
   "id": "0261f5a3",
   "metadata": {},
   "outputs": [],
   "source": [
    "numeric_features = ['volatile_acidity', 'residual_sugar', 'density', 'alcohol']\n",
    "categorical_features = []\n",
    "target_column = 'quality'\n",
    " \n",
    "test_size = 0.25"
   ]
  },
  {
   "cell_type": "markdown",
   "id": "651ac6c8",
   "metadata": {},
   "source": [
    "# **Step 3: Modelo con MLFlow + Optuna**\n",
    "\n",
    "mlflow server --backend-store-uri sqlite:///wine_quality.db"
   ]
  },
  {
   "cell_type": "code",
   "execution_count": 9,
   "id": "fcc12eca",
   "metadata": {},
   "outputs": [],
   "source": [
    "from sklearn.ensemble import RandomForestClassifier\n",
    "from train_with_mlflow_optuna import TrainMlflowOptuna\n",
    "import mlflow\n",
    "\n",
    "mlflow.set_tracking_uri(\"http://127.0.0.1:5000\")"
   ]
  },
  {
   "cell_type": "code",
   "execution_count": 10,
   "id": "15fc0dfd",
   "metadata": {},
   "outputs": [
    {
     "name": "stderr",
     "output_type": "stream",
     "text": [
      "[I 2025-10-04 12:19:56,481] A new study created in memory with name: optuna_RandomForestClassifier\n",
      "[I 2025-10-04 12:19:56,626] Trial 0 finished with value: 0.4975857844314939 and parameters: {'n_estimators': 159, 'max_depth': 6, 'min_samples_split': 3, 'min_samples_leaf': 5, 'max_features': 'log2'}. Best is trial 0 with value: 0.4975857844314939.\n"
     ]
    },
    {
     "name": "stdout",
     "output_type": "stream",
     "text": [
      "Starting Optuna optimization with 30 trials...\n",
      "Optimizing for: f1\n",
      "Model type: RandomForestClassifier\n"
     ]
    },
    {
     "name": "stderr",
     "output_type": "stream",
     "text": [
      "2025/10/04 12:19:56 INFO mlflow.tracking.fluent: Experiment with name 'optuna_RandomForestClassifier' does not exist. Creating a new experiment.\n",
      "[I 2025-10-04 12:19:57,190] Trial 1 finished with value: 0.5610976784458215 and parameters: {'n_estimators': 186, 'max_depth': 11, 'min_samples_split': 7, 'min_samples_leaf': 5, 'max_features': 'sqrt'}. Best is trial 1 with value: 0.5610976784458215.\n"
     ]
    },
    {
     "name": "stdout",
     "output_type": "stream",
     "text": [
      "🏃 View run 0 at: http://127.0.0.1:5000/#/experiments/1/runs/a9695423409d4c289c031c872a32ea4d\n",
      "🧪 View experiment at: http://127.0.0.1:5000/#/experiments/1\n",
      "🏃 View run 1 at: http://127.0.0.1:5000/#/experiments/1/runs/78ed9029ddec4180915e811930e6e344\n",
      "🧪 View experiment at: http://127.0.0.1:5000/#/experiments/1\n"
     ]
    },
    {
     "name": "stderr",
     "output_type": "stream",
     "text": [
      "[I 2025-10-04 12:19:57,428] Trial 2 finished with value: 0.5717134931943791 and parameters: {'n_estimators': 178, 'max_depth': 16, 'min_samples_split': 7, 'min_samples_leaf': 5, 'max_features': None}. Best is trial 2 with value: 0.5717134931943791.\n",
      "[I 2025-10-04 12:19:57,567] Trial 3 finished with value: 0.5747200307937766 and parameters: {'n_estimators': 102, 'max_depth': 16, 'min_samples_split': 9, 'min_samples_leaf': 5, 'max_features': 'sqrt'}. Best is trial 3 with value: 0.5747200307937766.\n"
     ]
    },
    {
     "name": "stdout",
     "output_type": "stream",
     "text": [
      "🏃 View run 2 at: http://127.0.0.1:5000/#/experiments/1/runs/649daa0635684e8db40ca19e82554a68\n",
      "🧪 View experiment at: http://127.0.0.1:5000/#/experiments/1\n",
      "🏃 View run 3 at: http://127.0.0.1:5000/#/experiments/1/runs/3a221562bd5245fa90293bfc76f81032\n",
      "🧪 View experiment at: http://127.0.0.1:5000/#/experiments/1\n"
     ]
    },
    {
     "name": "stderr",
     "output_type": "stream",
     "text": [
      "[I 2025-10-04 12:19:57,732] Trial 4 finished with value: 0.5862222099716785 and parameters: {'n_estimators': 133, 'max_depth': 28, 'min_samples_split': 7, 'min_samples_leaf': 4, 'max_features': 'log2'}. Best is trial 4 with value: 0.5862222099716785.\n",
      "[I 2025-10-04 12:19:57,877] Trial 5 finished with value: 0.5964787937317346 and parameters: {'n_estimators': 93, 'max_depth': 14, 'min_samples_split': 7, 'min_samples_leaf': 2, 'max_features': None}. Best is trial 5 with value: 0.5964787937317346.\n"
     ]
    },
    {
     "name": "stdout",
     "output_type": "stream",
     "text": [
      "🏃 View run 4 at: http://127.0.0.1:5000/#/experiments/1/runs/5fbd1d3b92784effbb4a5a2dcf7fdd5d\n",
      "🧪 View experiment at: http://127.0.0.1:5000/#/experiments/1\n",
      "🏃 View run 5 at: http://127.0.0.1:5000/#/experiments/1/runs/715be48e15934cd384b7b70aaa9b03c9\n",
      "🧪 View experiment at: http://127.0.0.1:5000/#/experiments/1\n"
     ]
    },
    {
     "name": "stderr",
     "output_type": "stream",
     "text": [
      "[I 2025-10-04 12:19:58,069] Trial 6 finished with value: 0.5739368287081377 and parameters: {'n_estimators': 174, 'max_depth': 15, 'min_samples_split': 5, 'min_samples_leaf': 5, 'max_features': 'log2'}. Best is trial 5 with value: 0.5964787937317346.\n",
      "[I 2025-10-04 12:19:58,246] Trial 7 finished with value: 0.5989615993145014 and parameters: {'n_estimators': 136, 'max_depth': 27, 'min_samples_split': 9, 'min_samples_leaf': 2, 'max_features': 'sqrt'}. Best is trial 7 with value: 0.5989615993145014.\n"
     ]
    },
    {
     "name": "stdout",
     "output_type": "stream",
     "text": [
      "🏃 View run 6 at: http://127.0.0.1:5000/#/experiments/1/runs/ff687238172d4a64b9076631a0abc0e0\n",
      "🧪 View experiment at: http://127.0.0.1:5000/#/experiments/1\n",
      "🏃 View run 7 at: http://127.0.0.1:5000/#/experiments/1/runs/076757fdc7a94bb799d8eb3ea0f31306\n",
      "🧪 View experiment at: http://127.0.0.1:5000/#/experiments/1\n"
     ]
    },
    {
     "name": "stderr",
     "output_type": "stream",
     "text": [
      "[I 2025-10-04 12:19:58,390] Trial 8 finished with value: 0.5759347945335258 and parameters: {'n_estimators': 104, 'max_depth': 18, 'min_samples_split': 10, 'min_samples_leaf': 5, 'max_features': 'sqrt'}. Best is trial 7 with value: 0.5989615993145014.\n",
      "[I 2025-10-04 12:19:58,506] Trial 9 finished with value: 0.5817207349176814 and parameters: {'n_estimators': 52, 'max_depth': 17, 'min_samples_split': 10, 'min_samples_leaf': 4, 'max_features': None}. Best is trial 7 with value: 0.5989615993145014.\n"
     ]
    },
    {
     "name": "stdout",
     "output_type": "stream",
     "text": [
      "🏃 View run 8 at: http://127.0.0.1:5000/#/experiments/1/runs/7c76f845df1c40fd939b0a2636f9c050\n",
      "🧪 View experiment at: http://127.0.0.1:5000/#/experiments/1\n",
      "🏃 View run 9 at: http://127.0.0.1:5000/#/experiments/1/runs/329579e39ee44ed4b1b7e7f962cd4209\n",
      "🧪 View experiment at: http://127.0.0.1:5000/#/experiments/1\n"
     ]
    },
    {
     "name": "stderr",
     "output_type": "stream",
     "text": [
      "[I 2025-10-04 12:19:58,682] Trial 10 finished with value: 0.6425546584086081 and parameters: {'n_estimators': 142, 'max_depth': 30, 'min_samples_split': 4, 'min_samples_leaf': 1, 'max_features': 'sqrt'}. Best is trial 10 with value: 0.6425546584086081.\n",
      "[I 2025-10-04 12:19:58,865] Trial 11 finished with value: 0.6406632282941132 and parameters: {'n_estimators': 141, 'max_depth': 30, 'min_samples_split': 2, 'min_samples_leaf': 1, 'max_features': 'sqrt'}. Best is trial 10 with value: 0.6425546584086081.\n"
     ]
    },
    {
     "name": "stdout",
     "output_type": "stream",
     "text": [
      "🏃 View run 10 at: http://127.0.0.1:5000/#/experiments/1/runs/5112a0a600d8429e98463cf037d6e4e1\n",
      "🧪 View experiment at: http://127.0.0.1:5000/#/experiments/1\n",
      "🏃 View run 11 at: http://127.0.0.1:5000/#/experiments/1/runs/0ee6e747be6340efbb3bc2f03b607dca\n",
      "🧪 View experiment at: http://127.0.0.1:5000/#/experiments/1\n"
     ]
    },
    {
     "name": "stderr",
     "output_type": "stream",
     "text": [
      "[I 2025-10-04 12:19:59,047] Trial 12 finished with value: 0.6401326221294122 and parameters: {'n_estimators': 150, 'max_depth': 23, 'min_samples_split': 2, 'min_samples_leaf': 1, 'max_features': 'sqrt'}. Best is trial 10 with value: 0.6425546584086081.\n",
      "[I 2025-10-04 12:19:59,199] Trial 13 finished with value: 0.6436037827853707 and parameters: {'n_estimators': 118, 'max_depth': 30, 'min_samples_split': 4, 'min_samples_leaf': 1, 'max_features': 'sqrt'}. Best is trial 13 with value: 0.6436037827853707.\n"
     ]
    },
    {
     "name": "stdout",
     "output_type": "stream",
     "text": [
      "🏃 View run 12 at: http://127.0.0.1:5000/#/experiments/1/runs/5c2d572c6fdd4c48927025ec64f3a1b4\n",
      "🧪 View experiment at: http://127.0.0.1:5000/#/experiments/1\n",
      "🏃 View run 13 at: http://127.0.0.1:5000/#/experiments/1/runs/8683fc47344148bb92067eb7a7a2ed95\n",
      "🧪 View experiment at: http://127.0.0.1:5000/#/experiments/1\n"
     ]
    },
    {
     "name": "stderr",
     "output_type": "stream",
     "text": [
      "[I 2025-10-04 12:19:59,354] Trial 14 finished with value: 0.6307088121222432 and parameters: {'n_estimators': 115, 'max_depth': 23, 'min_samples_split': 4, 'min_samples_leaf': 2, 'max_features': 'sqrt'}. Best is trial 13 with value: 0.6436037827853707.\n",
      "[I 2025-10-04 12:19:59,488] Trial 15 finished with value: 0.6325280811070879 and parameters: {'n_estimators': 79, 'max_depth': 24, 'min_samples_split': 5, 'min_samples_leaf': 1, 'max_features': 'sqrt'}. Best is trial 13 with value: 0.6436037827853707.\n"
     ]
    },
    {
     "name": "stdout",
     "output_type": "stream",
     "text": [
      "🏃 View run 14 at: http://127.0.0.1:5000/#/experiments/1/runs/f07c9746e6e4425b8c87c354f1de5243\n",
      "🧪 View experiment at: http://127.0.0.1:5000/#/experiments/1\n",
      "🏃 View run 15 at: http://127.0.0.1:5000/#/experiments/1/runs/27048864e9574c2eaa5f32c835a9b27b\n",
      "🧪 View experiment at: http://127.0.0.1:5000/#/experiments/1\n"
     ]
    },
    {
     "name": "stderr",
     "output_type": "stream",
     "text": [
      "[I 2025-10-04 12:19:59,643] Trial 16 finished with value: 0.6025434086168732 and parameters: {'n_estimators': 120, 'max_depth': 30, 'min_samples_split': 4, 'min_samples_leaf': 3, 'max_features': 'sqrt'}. Best is trial 13 with value: 0.6436037827853707.\n",
      "[I 2025-10-04 12:19:59,765] Trial 17 finished with value: 0.6133424660484174 and parameters: {'n_estimators': 73, 'max_depth': 26, 'min_samples_split': 5, 'min_samples_leaf': 2, 'max_features': 'sqrt'}. Best is trial 13 with value: 0.6436037827853707.\n"
     ]
    },
    {
     "name": "stdout",
     "output_type": "stream",
     "text": [
      "🏃 View run 16 at: http://127.0.0.1:5000/#/experiments/1/runs/31c1e71911724bb8ad0bf6efa98c73cd\n",
      "🧪 View experiment at: http://127.0.0.1:5000/#/experiments/1\n",
      "🏃 View run 17 at: http://127.0.0.1:5000/#/experiments/1/runs/91ef4b481ae049f5841a3ee446510d23\n",
      "🧪 View experiment at: http://127.0.0.1:5000/#/experiments/1\n"
     ]
    },
    {
     "name": "stderr",
     "output_type": "stream",
     "text": [
      "[I 2025-10-04 12:19:59,949] Trial 18 finished with value: 0.6416426291687248 and parameters: {'n_estimators': 160, 'max_depth': 20, 'min_samples_split': 3, 'min_samples_leaf': 1, 'max_features': 'log2'}. Best is trial 13 with value: 0.6436037827853707.\n",
      "[I 2025-10-04 12:20:00,130] Trial 19 finished with value: 0.6002537723340149 and parameters: {'n_estimators': 121, 'max_depth': 21, 'min_samples_split': 4, 'min_samples_leaf': 3, 'max_features': None}. Best is trial 13 with value: 0.6436037827853707.\n"
     ]
    },
    {
     "name": "stdout",
     "output_type": "stream",
     "text": [
      "🏃 View run 18 at: http://127.0.0.1:5000/#/experiments/1/runs/c4e85c9fde564ae9950bbbca540f00ba\n",
      "🧪 View experiment at: http://127.0.0.1:5000/#/experiments/1\n",
      "🏃 View run 19 at: http://127.0.0.1:5000/#/experiments/1/runs/39ee5dc3ff0647d5a7677602da12ccdc\n",
      "🧪 View experiment at: http://127.0.0.1:5000/#/experiments/1\n"
     ]
    },
    {
     "name": "stderr",
     "output_type": "stream",
     "text": [
      "[I 2025-10-04 12:20:00,363] Trial 20 finished with value: 0.6289327140142494 and parameters: {'n_estimators': 197, 'max_depth': 25, 'min_samples_split': 6, 'min_samples_leaf': 1, 'max_features': 'sqrt'}. Best is trial 13 with value: 0.6436037827853707.\n",
      "[I 2025-10-04 12:20:00,543] Trial 21 finished with value: 0.637708592162187 and parameters: {'n_estimators': 162, 'max_depth': 21, 'min_samples_split': 3, 'min_samples_leaf': 1, 'max_features': 'log2'}. Best is trial 13 with value: 0.6436037827853707.\n"
     ]
    },
    {
     "name": "stdout",
     "output_type": "stream",
     "text": [
      "🏃 View run 20 at: http://127.0.0.1:5000/#/experiments/1/runs/3d17fdfdc35b4d579e07d1abd911176c\n",
      "🧪 View experiment at: http://127.0.0.1:5000/#/experiments/1\n",
      "🏃 View run 21 at: http://127.0.0.1:5000/#/experiments/1/runs/b2725001c544415a8a7fe01de7a013c4\n",
      "🧪 View experiment at: http://127.0.0.1:5000/#/experiments/1\n"
     ]
    },
    {
     "name": "stderr",
     "output_type": "stream",
     "text": [
      "[I 2025-10-04 12:20:00,731] Trial 22 finished with value: 0.6310823010386437 and parameters: {'n_estimators': 156, 'max_depth': 28, 'min_samples_split': 3, 'min_samples_leaf': 2, 'max_features': 'log2'}. Best is trial 13 with value: 0.6436037827853707.\n",
      "[I 2025-10-04 12:20:00,896] Trial 23 finished with value: 0.5623936215612295 and parameters: {'n_estimators': 144, 'max_depth': 9, 'min_samples_split': 3, 'min_samples_leaf': 1, 'max_features': 'log2'}. Best is trial 13 with value: 0.6436037827853707.\n"
     ]
    },
    {
     "name": "stdout",
     "output_type": "stream",
     "text": [
      "🏃 View run 22 at: http://127.0.0.1:5000/#/experiments/1/runs/9dce31ed9b37437ca7fe1753ed43441a\n",
      "🧪 View experiment at: http://127.0.0.1:5000/#/experiments/1\n",
      "🏃 View run 23 at: http://127.0.0.1:5000/#/experiments/1/runs/cc00253b9a474ffe98379de6fcbdb58d\n",
      "🧪 View experiment at: http://127.0.0.1:5000/#/experiments/1\n"
     ]
    },
    {
     "name": "stderr",
     "output_type": "stream",
     "text": [
      "[I 2025-10-04 12:20:01,086] Trial 24 finished with value: 0.6358535533012939 and parameters: {'n_estimators': 169, 'max_depth': 30, 'min_samples_split': 2, 'min_samples_leaf': 1, 'max_features': 'log2'}. Best is trial 13 with value: 0.6436037827853707.\n",
      "[I 2025-10-04 12:20:01,257] Trial 25 finished with value: 0.6273209368979905 and parameters: {'n_estimators': 130, 'max_depth': 20, 'min_samples_split': 4, 'min_samples_leaf': 2, 'max_features': 'log2'}. Best is trial 13 with value: 0.6436037827853707.\n"
     ]
    },
    {
     "name": "stdout",
     "output_type": "stream",
     "text": [
      "🏃 View run 24 at: http://127.0.0.1:5000/#/experiments/1/runs/7c0e423093c34a9a8944e3b4f560b158\n",
      "🧪 View experiment at: http://127.0.0.1:5000/#/experiments/1\n",
      "🏃 View run 25 at: http://127.0.0.1:5000/#/experiments/1/runs/3a26df64505045f88a3083af77888162\n",
      "🧪 View experiment at: http://127.0.0.1:5000/#/experiments/1\n"
     ]
    },
    {
     "name": "stderr",
     "output_type": "stream",
     "text": [
      "[I 2025-10-04 12:20:01,413] Trial 26 finished with value: 0.5896469112817493 and parameters: {'n_estimators': 105, 'max_depth': 13, 'min_samples_split': 6, 'min_samples_leaf': 3, 'max_features': 'sqrt'}. Best is trial 13 with value: 0.6436037827853707.\n",
      "[I 2025-10-04 12:20:01,593] Trial 27 finished with value: 0.6263294754314146 and parameters: {'n_estimators': 149, 'max_depth': 27, 'min_samples_split': 5, 'min_samples_leaf': 1, 'max_features': 'sqrt'}. Best is trial 13 with value: 0.6436037827853707.\n"
     ]
    },
    {
     "name": "stdout",
     "output_type": "stream",
     "text": [
      "🏃 View run 26 at: http://127.0.0.1:5000/#/experiments/1/runs/a429e6ffe79c4f3996ea0dcbf4456512\n",
      "🧪 View experiment at: http://127.0.0.1:5000/#/experiments/1\n",
      "🏃 View run 27 at: http://127.0.0.1:5000/#/experiments/1/runs/cb0ffbdb889a47af90428aaf05987f72\n",
      "🧪 View experiment at: http://127.0.0.1:5000/#/experiments/1\n"
     ]
    },
    {
     "name": "stderr",
     "output_type": "stream",
     "text": [
      "[I 2025-10-04 12:20:01,738] Trial 28 finished with value: 0.49461317791768844 and parameters: {'n_estimators': 113, 'max_depth': 5, 'min_samples_split': 3, 'min_samples_leaf': 2, 'max_features': None}. Best is trial 13 with value: 0.6436037827853707.\n",
      "[I 2025-10-04 12:20:01,937] Trial 29 finished with value: 0.6441271833031672 and parameters: {'n_estimators': 161, 'max_depth': 19, 'min_samples_split': 4, 'min_samples_leaf': 1, 'max_features': 'log2'}. Best is trial 29 with value: 0.6441271833031672.\n"
     ]
    },
    {
     "name": "stdout",
     "output_type": "stream",
     "text": [
      "🏃 View run 28 at: http://127.0.0.1:5000/#/experiments/1/runs/3abda288a12147a695ee34ca46daaa89\n",
      "🧪 View experiment at: http://127.0.0.1:5000/#/experiments/1\n",
      "🏃 View run 29 at: http://127.0.0.1:5000/#/experiments/1/runs/755c1d93816244b3877f7c55bf77db14\n",
      "🧪 View experiment at: http://127.0.0.1:5000/#/experiments/1\n",
      "\n",
      "Optimization complete!\n",
      "Best f1: 0.6441\n",
      "Best parameters: {'n_estimators': 161, 'max_depth': 19, 'min_samples_split': 4, 'min_samples_leaf': 1, 'max_features': 'log2'}\n"
     ]
    },
    {
     "name": "stderr",
     "output_type": "stream",
     "text": [
      "2025/10/04 12:20:02 WARNING mlflow.models.model: `artifact_path` is deprecated. Please use `name` instead.\n",
      "2025/10/04 12:20:04 WARNING mlflow.utils.environment: Failed to resolve installed pip version. ``pip`` will be added to conda.yaml environment spec without a version specifier.\n"
     ]
    },
    {
     "name": "stdout",
     "output_type": "stream",
     "text": [
      "\n",
      "Best Model MLflow Run ID: 9e6c63303eb64f079bf19aea61b9885e\n",
      "Tracking URI: http://127.0.0.1:5000\n",
      "Train Accuracy: 0.9869\n",
      "Test Accuracy: 0.6531\n",
      "🏃 View run best_model_RandomForestClassifier at: http://127.0.0.1:5000/#/experiments/1/runs/9e6c63303eb64f079bf19aea61b9885e\n",
      "🧪 View experiment at: http://127.0.0.1:5000/#/experiments/1\n"
     ]
    }
   ],
   "source": [
    "# Define RandomForest parameter distributions\n",
    "param_distributions = {\n",
    "    'n_estimators': ('int', 50, 200),\n",
    "    'max_depth': ('int', 5, 30),\n",
    "    'min_samples_split': ('int', 2, 10),\n",
    "    'min_samples_leaf': ('int', 1, 5),\n",
    "    'max_features': ('categorical', ['sqrt', 'log2', None])\n",
    "}\n",
    "\n",
    "# Create trainer for RandomForest\n",
    "trainer = TrainMlflowOptuna(\n",
    "    df=df_engineered,\n",
    "    numeric_features=numeric_features,\n",
    "    categorical_features=categorical_features,\n",
    "    target_column=target_column,\n",
    "    model_class=RandomForestClassifier,\n",
    "    test_size=0.3,\n",
    "    n_trials=30,\n",
    "    optimization_metric='f1',  # Optimize for F1 score\n",
    "    param_distributions=param_distributions,\n",
    "    model_params={'random_state': 42, 'n_jobs': -1},\n",
    "    mlflow_setup = mlflow\n",
    ")\n",
    "\n",
    "# Run optimization\n",
    "best_pipeline, run_id, study = trainer.train()"
   ]
  }
 ],
 "metadata": {
  "kernelspec": {
   "display_name": "MLOps_CML",
   "language": "python",
   "name": "python3"
  },
  "language_info": {
   "codemirror_mode": {
    "name": "ipython",
    "version": 3
   },
   "file_extension": ".py",
   "mimetype": "text/x-python",
   "name": "python",
   "nbconvert_exporter": "python",
   "pygments_lexer": "ipython3",
   "version": "3.12.11"
  }
 },
 "nbformat": 4,
 "nbformat_minor": 5
}
