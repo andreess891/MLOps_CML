{
 "cells": [
  {
   "cell_type": "markdown",
   "id": "d3add7d0",
   "metadata": {},
   "source": [
    "# Wine Quality Dataset\n",
    "\n",
    "## Descripción del Conjunto de Datos\n",
    "\n",
    "Este conjunto de datos se relaciona con las variantes de vino tinto y vino blanco de origen portugués. El objetivo es modelar la calidad del vino en función de pruebas fisicoquímicas.\n",
    "\n",
    "---\n",
    "\n",
    "## Fuente\n",
    "\n",
    "Los datos provienen del [UCI Machine Learning Repository](https://archive.ics.uci.edu/dataset/186/wine+quality).\n",
    "\n",
    "---\n",
    "\n",
    "## Descripción de las Variables\n",
    "\n",
    "| Variable | Descripción |\n",
    "| :--- | :--- |\n",
    "| **fixed acidity** | Ácidos fijos que no se evaporan fácilmente. |\n",
    "| **volatile acidity** | La cantidad de ácido acético en el vino, que en niveles altos puede llevar a un sabor avinagrado. |\n",
    "| **citric acid** | En pequeñas cantidades, puede añadir frescura y sabor a los vinos. |\n",
    "| **residual sugar** | La cantidad de azúcar que queda después de que se detiene la fermentación. |\n",
    "| **chlorides** | La cantidad de sal en el vino. |\n",
    "| **free sulfur dioxide** | La forma libre de SO2 existe en equilibrio entre el SO2 molecular (como un gas disuelto) y el ion bisulfito. |\n",
    "| **total sulfur dioxide** | Cantidad de formas libres y ligadas de S02; en bajas concentraciones, el SO2 es mayormente indetectable en el vino, pero en concentraciones de SO2 libre de más de 50 ppm, el SO2 se vuelve evidente en la nariz y el sabor del vino. |\n",
    "| **density** | La densidad del agua se acerca a la del agua dependiendo del porcentaje de alcohol y contenido de azúcar. |\n",
    "| **pH** | Describe qué tan ácido o básico es un vino en una escala de 0 (muy ácido) a 14 (muy básico); la mayoría de los vinos están entre 3 y 4 en la escala de pH. |\n",
    "| **sulphates** | Un aditivo del vino que puede contribuir a los niveles de dióxido de azufre (SO2), que actúa como un antimicrobiano y antioxidante. |\n",
    "| **alcohol** | El porcentaje de contenido de alcohol del vino. |\n",
    "| **quality** | Puntuación entre 0 y 10, basada en datos sensoriales. |"
   ]
  },
  {
   "cell_type": "code",
   "execution_count": 9,
   "id": "251b4a8c",
   "metadata": {},
   "outputs": [],
   "source": [
    "import pandas as pd\n",
    "import matplotlib.pyplot as plt\n",
    "import seaborn as sns\n",
    "\n",
    "from ucimlrepo import fetch_ucirepo "
   ]
  },
  {
   "cell_type": "code",
   "execution_count": 2,
   "id": "08f2e796",
   "metadata": {},
   "outputs": [],
   "source": [
    "wine_quality = fetch_ucirepo(id=186) \n",
    "  \n",
    "df_wine_quality = pd.concat([wine_quality.data.features, wine_quality.data.targets], axis=1)"
   ]
  },
  {
   "cell_type": "code",
   "execution_count": 3,
   "id": "4280979e",
   "metadata": {},
   "outputs": [
    {
     "data": {
      "text/html": [
       "<div>\n",
       "<style scoped>\n",
       "    .dataframe tbody tr th:only-of-type {\n",
       "        vertical-align: middle;\n",
       "    }\n",
       "\n",
       "    .dataframe tbody tr th {\n",
       "        vertical-align: top;\n",
       "    }\n",
       "\n",
       "    .dataframe thead th {\n",
       "        text-align: right;\n",
       "    }\n",
       "</style>\n",
       "<table border=\"1\" class=\"dataframe\">\n",
       "  <thead>\n",
       "    <tr style=\"text-align: right;\">\n",
       "      <th></th>\n",
       "      <th>fixed_acidity</th>\n",
       "      <th>volatile_acidity</th>\n",
       "      <th>citric_acid</th>\n",
       "      <th>residual_sugar</th>\n",
       "      <th>chlorides</th>\n",
       "      <th>free_sulfur_dioxide</th>\n",
       "      <th>total_sulfur_dioxide</th>\n",
       "      <th>density</th>\n",
       "      <th>pH</th>\n",
       "      <th>sulphates</th>\n",
       "      <th>alcohol</th>\n",
       "      <th>quality</th>\n",
       "    </tr>\n",
       "  </thead>\n",
       "  <tbody>\n",
       "    <tr>\n",
       "      <th>0</th>\n",
       "      <td>7.4</td>\n",
       "      <td>0.70</td>\n",
       "      <td>0.00</td>\n",
       "      <td>1.9</td>\n",
       "      <td>0.076</td>\n",
       "      <td>11.0</td>\n",
       "      <td>34.0</td>\n",
       "      <td>0.9978</td>\n",
       "      <td>3.51</td>\n",
       "      <td>0.56</td>\n",
       "      <td>9.4</td>\n",
       "      <td>5</td>\n",
       "    </tr>\n",
       "    <tr>\n",
       "      <th>1</th>\n",
       "      <td>7.8</td>\n",
       "      <td>0.88</td>\n",
       "      <td>0.00</td>\n",
       "      <td>2.6</td>\n",
       "      <td>0.098</td>\n",
       "      <td>25.0</td>\n",
       "      <td>67.0</td>\n",
       "      <td>0.9968</td>\n",
       "      <td>3.20</td>\n",
       "      <td>0.68</td>\n",
       "      <td>9.8</td>\n",
       "      <td>5</td>\n",
       "    </tr>\n",
       "    <tr>\n",
       "      <th>2</th>\n",
       "      <td>7.8</td>\n",
       "      <td>0.76</td>\n",
       "      <td>0.04</td>\n",
       "      <td>2.3</td>\n",
       "      <td>0.092</td>\n",
       "      <td>15.0</td>\n",
       "      <td>54.0</td>\n",
       "      <td>0.9970</td>\n",
       "      <td>3.26</td>\n",
       "      <td>0.65</td>\n",
       "      <td>9.8</td>\n",
       "      <td>5</td>\n",
       "    </tr>\n",
       "    <tr>\n",
       "      <th>3</th>\n",
       "      <td>11.2</td>\n",
       "      <td>0.28</td>\n",
       "      <td>0.56</td>\n",
       "      <td>1.9</td>\n",
       "      <td>0.075</td>\n",
       "      <td>17.0</td>\n",
       "      <td>60.0</td>\n",
       "      <td>0.9980</td>\n",
       "      <td>3.16</td>\n",
       "      <td>0.58</td>\n",
       "      <td>9.8</td>\n",
       "      <td>6</td>\n",
       "    </tr>\n",
       "    <tr>\n",
       "      <th>4</th>\n",
       "      <td>7.4</td>\n",
       "      <td>0.70</td>\n",
       "      <td>0.00</td>\n",
       "      <td>1.9</td>\n",
       "      <td>0.076</td>\n",
       "      <td>11.0</td>\n",
       "      <td>34.0</td>\n",
       "      <td>0.9978</td>\n",
       "      <td>3.51</td>\n",
       "      <td>0.56</td>\n",
       "      <td>9.4</td>\n",
       "      <td>5</td>\n",
       "    </tr>\n",
       "  </tbody>\n",
       "</table>\n",
       "</div>"
      ],
      "text/plain": [
       "   fixed_acidity  volatile_acidity  citric_acid  residual_sugar  chlorides  \\\n",
       "0            7.4              0.70         0.00             1.9      0.076   \n",
       "1            7.8              0.88         0.00             2.6      0.098   \n",
       "2            7.8              0.76         0.04             2.3      0.092   \n",
       "3           11.2              0.28         0.56             1.9      0.075   \n",
       "4            7.4              0.70         0.00             1.9      0.076   \n",
       "\n",
       "   free_sulfur_dioxide  total_sulfur_dioxide  density    pH  sulphates  \\\n",
       "0                 11.0                  34.0   0.9978  3.51       0.56   \n",
       "1                 25.0                  67.0   0.9968  3.20       0.68   \n",
       "2                 15.0                  54.0   0.9970  3.26       0.65   \n",
       "3                 17.0                  60.0   0.9980  3.16       0.58   \n",
       "4                 11.0                  34.0   0.9978  3.51       0.56   \n",
       "\n",
       "   alcohol  quality  \n",
       "0      9.4        5  \n",
       "1      9.8        5  \n",
       "2      9.8        5  \n",
       "3      9.8        6  \n",
       "4      9.4        5  "
      ]
     },
     "execution_count": 3,
     "metadata": {},
     "output_type": "execute_result"
    }
   ],
   "source": [
    "df_wine_quality.head()"
   ]
  },
  {
   "cell_type": "markdown",
   "id": "6af61943",
   "metadata": {},
   "source": [
    "Tipos de Datos y Valores Nulos"
   ]
  },
  {
   "cell_type": "code",
   "execution_count": 4,
   "id": "54eeb553",
   "metadata": {},
   "outputs": [
    {
     "name": "stdout",
     "output_type": "stream",
     "text": [
      "\n",
      "Información del DataFrame:\n",
      "<class 'pandas.core.frame.DataFrame'>\n",
      "RangeIndex: 6497 entries, 0 to 6496\n",
      "Data columns (total 12 columns):\n",
      " #   Column                Non-Null Count  Dtype  \n",
      "---  ------                --------------  -----  \n",
      " 0   fixed_acidity         6497 non-null   float64\n",
      " 1   volatile_acidity      6497 non-null   float64\n",
      " 2   citric_acid           6497 non-null   float64\n",
      " 3   residual_sugar        6497 non-null   float64\n",
      " 4   chlorides             6497 non-null   float64\n",
      " 5   free_sulfur_dioxide   6497 non-null   float64\n",
      " 6   total_sulfur_dioxide  6497 non-null   float64\n",
      " 7   density               6497 non-null   float64\n",
      " 8   pH                    6497 non-null   float64\n",
      " 9   sulphates             6497 non-null   float64\n",
      " 10  alcohol               6497 non-null   float64\n",
      " 11  quality               6497 non-null   int64  \n",
      "dtypes: float64(11), int64(1)\n",
      "memory usage: 609.2 KB\n",
      "None\n"
     ]
    }
   ],
   "source": [
    "print(\"\\nInformación del DataFrame:\")\n",
    "print(df_wine_quality.info())"
   ]
  },
  {
   "cell_type": "markdown",
   "id": "a64d7001",
   "metadata": {},
   "source": [
    "Estadística Descriptiva y Distribución"
   ]
  },
  {
   "cell_type": "code",
   "execution_count": 5,
   "id": "24d9cace",
   "metadata": {},
   "outputs": [
    {
     "name": "stdout",
     "output_type": "stream",
     "text": [
      "\n",
      "Estadísticas Descriptivas:\n",
      "                       count        mean        std      min       25%  \\\n",
      "fixed_acidity         6497.0    7.215307   1.296434  3.80000   6.40000   \n",
      "volatile_acidity      6497.0    0.339666   0.164636  0.08000   0.23000   \n",
      "citric_acid           6497.0    0.318633   0.145318  0.00000   0.25000   \n",
      "residual_sugar        6497.0    5.443235   4.757804  0.60000   1.80000   \n",
      "chlorides             6497.0    0.056034   0.035034  0.00900   0.03800   \n",
      "free_sulfur_dioxide   6497.0   30.525319  17.749400  1.00000  17.00000   \n",
      "total_sulfur_dioxide  6497.0  115.744574  56.521855  6.00000  77.00000   \n",
      "density               6497.0    0.994697   0.002999  0.98711   0.99234   \n",
      "pH                    6497.0    3.218501   0.160787  2.72000   3.11000   \n",
      "sulphates             6497.0    0.531268   0.148806  0.22000   0.43000   \n",
      "alcohol               6497.0   10.491801   1.192712  8.00000   9.50000   \n",
      "quality               6497.0    5.818378   0.873255  3.00000   5.00000   \n",
      "\n",
      "                            50%        75%        max  \n",
      "fixed_acidity           7.00000    7.70000   15.90000  \n",
      "volatile_acidity        0.29000    0.40000    1.58000  \n",
      "citric_acid             0.31000    0.39000    1.66000  \n",
      "residual_sugar          3.00000    8.10000   65.80000  \n",
      "chlorides               0.04700    0.06500    0.61100  \n",
      "free_sulfur_dioxide    29.00000   41.00000  289.00000  \n",
      "total_sulfur_dioxide  118.00000  156.00000  440.00000  \n",
      "density                 0.99489    0.99699    1.03898  \n",
      "pH                      3.21000    3.32000    4.01000  \n",
      "sulphates               0.51000    0.60000    2.00000  \n",
      "alcohol                10.30000   11.30000   14.90000  \n",
      "quality                 6.00000    6.00000    9.00000  \n"
     ]
    }
   ],
   "source": [
    "print(\"\\nEstadísticas Descriptivas:\")\n",
    "print(df_wine_quality.describe().T)"
   ]
  },
  {
   "cell_type": "code",
   "execution_count": 15,
   "id": "a95bf98e",
   "metadata": {},
   "outputs": [
    {
     "name": "stderr",
     "output_type": "stream",
     "text": [
      "/var/folders/nt/4ldzwbz51gg979lps65n9sjr0000gn/T/ipykernel_14540/559178840.py:4: FutureWarning: \n",
      "\n",
      "Passing `palette` without assigning `hue` is deprecated and will be removed in v0.14.0. Assign the `x` variable to `hue` and set `legend=False` for the same effect.\n",
      "\n",
      "  sns.countplot(x='quality', data=df_wine_quality, palette='viridis')\n"
     ]
    },
    {
     "data": {
      "image/png": "[encoded data removed]",
      "text/plain": [
       "<Figure size 800x500 with 1 Axes>"
      ]
     },
     "metadata": {},
     "output_type": "display_data"
    }
   ],
   "source": [
    "# --- Luego, ejecuta esta celda para el gráfico ---\n",
    "plt.figure(figsize=(8, 5))\n",
    "# La función 'countplot' necesita que 'data=' sea un DataFrame válido.\n",
    "sns.countplot(x='quality', data=df_wine_quality, palette='viridis')\n",
    "plt.title('Distribución de Puntuaciones de Calidad del Vino')\n",
    "plt.xlabel('Puntuación de Calidad (0-10)')\n",
    "plt.ylabel('Conteo de Vinos')\n",
    "plt.show()"
   ]
  }
 ],
 "metadata": {
  "kernelspec": {
   "display_name": "MLOps_CML (3.12.7)",
   "language": "python",
   "name": "python3"
  },
  "language_info": {
   "codemirror_mode": {
    "name": "ipython",
    "version": 3
   },
   "file_extension": ".py",
   "mimetype": "text/x-python",
   "name": "python",
   "nbconvert_exporter": "python",
   "pygments_lexer": "ipython3",
   "version": "3.12.7"
  }
 },
 "nbformat": 4,
 "nbformat_minor": 5
}
